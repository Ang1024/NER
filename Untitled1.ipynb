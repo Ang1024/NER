{
 "cells": [
  {
   "cell_type": "code",
   "execution_count": 8,
   "metadata": {},
   "outputs": [],
   "source": [
    "import matplotlib.pyplot as plt"
   ]
  },
  {
   "cell_type": "code",
   "execution_count": 1,
   "metadata": {},
   "outputs": [],
   "source": [
    "import numpy as np"
   ]
  },
  {
   "cell_type": "code",
   "execution_count": 2,
   "metadata": {},
   "outputs": [],
   "source": [
    "x = np.linspace(0,1, num=100)"
   ]
  },
  {
   "cell_type": "code",
   "execution_count": 6,
   "metadata": {},
   "outputs": [],
   "source": [
    "y = np.sqrt(1-x*x)"
   ]
  },
  {
   "cell_type": "code",
   "execution_count": 13,
   "metadata": {},
   "outputs": [],
   "source": [
    "T = np.reshape([1,2,3,4], (2,2))"
   ]
  },
  {
   "cell_type": "code",
   "execution_count": 24,
   "metadata": {},
   "outputs": [],
   "source": [
    "points = np.array([x,y])"
   ]
  },
  {
   "cell_type": "code",
   "execution_count": 26,
   "metadata": {},
   "outputs": [],
   "source": [
    "[xp, yp] = np.matmul(T,points)"
   ]
  },
  {
   "cell_type": "code",
   "execution_count": 27,
   "metadata": {
    "collapsed": true
   },
   "outputs": [
    {
     "data": {
      "text/plain": [
       "array([2.        , 2.00999898, 2.01979386, 2.02938455, 2.03877089,\n",
       "       2.04795266, 2.05692959, 2.06570132, 2.07426744, 2.08262748,\n",
       "       2.0907809 , 2.09872709, 2.10646538, 2.11399501, 2.12131519,\n",
       "       2.12842502, 2.13532355, 2.14200975, 2.14848251, 2.15474065,\n",
       "       2.16078291, 2.16660794, 2.17221431, 2.1776005 , 2.18276492,\n",
       "       2.18770586, 2.19242153, 2.19691004, 2.2011694 , 2.20519751,\n",
       "       2.20899214, 2.21255099, 2.21587161, 2.21895142, 2.22178772,\n",
       "       2.22437768, 2.22671832, 2.22880651, 2.23063896, 2.23221223,\n",
       "       2.23352268, 2.23456652, 2.23533973, 2.23583813, 2.23605728,\n",
       "       2.23599254, 2.23563903, 2.23499159, 2.23404481, 2.23279298,\n",
       "       2.23123009, 2.22934977, 2.22714534, 2.22460969, 2.22173536,\n",
       "       2.21851439, 2.21493841, 2.21099849, 2.20668519, 2.20198844,\n",
       "       2.19689755, 2.19140111, 2.18548695, 2.17914207, 2.17235253,\n",
       "       2.16510341, 2.15737865, 2.14916098, 2.14043177, 2.13117086,\n",
       "       2.12135641, 2.11096471, 2.0999699 , 2.08834372, 2.0760552 ,\n",
       "       2.06307026, 2.04935127, 2.0348565 , 2.01953948, 2.00334819,\n",
       "       1.98622411, 1.96810097, 1.94890329, 1.92854445, 1.90692419,\n",
       "       1.88392546, 1.85941009, 1.83321308, 1.80513458, 1.77492862,\n",
       "       1.74228649, 1.70681166, 1.66798001, 1.62507324, 1.57705958,\n",
       "       1.52235912, 1.45831865, 1.37977757, 1.27344786, 1.        ])"
      ]
     },
     "execution_count": 27,
     "metadata": {},
     "output_type": "execute_result"
    }
   ],
   "source": [
    "xp"
   ]
  },
  {
   "cell_type": "code",
   "execution_count": 28,
   "metadata": {
    "collapsed": true
   },
   "outputs": [
    {
     "data": {
      "text/plain": [
       "array([4.        , 4.03009896, 4.05978973, 4.08907212, 4.11794581,\n",
       "       4.14641037, 4.17446523, 4.2021097 , 4.22934296, 4.25616405,\n",
       "       4.2825719 , 4.30856529, 4.33414287, 4.35930316, 4.38404452,\n",
       "       4.4083652 , 4.43226327, 4.45573668, 4.47878321, 4.5014005 ,\n",
       "       4.52358602, 4.54533709, 4.56665084, 4.58752424, 4.60795408,\n",
       "       4.62793697, 4.64746933, 4.66654736, 4.68516709, 4.7033243 ,\n",
       "       4.72101459, 4.7382333 , 4.75497554, 4.77123617, 4.78700978,\n",
       "       4.80229072, 4.81707301, 4.83135039, 4.84511631, 4.85836385,\n",
       "       4.87108577, 4.88327445, 4.89492189, 4.90601969, 4.916559  ,\n",
       "       4.92653053, 4.93592452, 4.94473065, 4.95293811, 4.96053546,\n",
       "       4.96751068, 4.97385106, 4.9795432 , 4.98457292, 4.98892526,\n",
       "       4.99258434, 4.99553338, 4.99775456, 4.99922896, 4.99993647,\n",
       "       4.9998557 , 4.99896383, 4.99723653, 4.99464777, 4.99116971,\n",
       "       4.98677248, 4.98142397, 4.97508964, 4.96773222, 4.95931141,\n",
       "       4.94978354, 4.93910114, 4.92721252, 4.91406117, 4.89958514,\n",
       "       4.88371627, 4.8663793 , 4.84749078, 4.82695775, 4.80467618,\n",
       "       4.78052902, 4.75438375, 4.72608941, 4.69547274, 4.66233324,\n",
       "       4.62643677, 4.58750704, 4.54521403, 4.49915806, 4.44884714,\n",
       "       4.39366389, 4.33281525, 4.26525295, 4.18954042, 4.10361411,\n",
       "       4.0043142 , 3.88633427, 3.73935313, 3.5367947 , 3.        ])"
      ]
     },
     "execution_count": 28,
     "metadata": {},
     "output_type": "execute_result"
    }
   ],
   "source": [
    "yp"
   ]
  },
  {
   "cell_type": "code",
   "execution_count": null,
   "metadata": {},
   "outputs": [],
   "source": [
    "np.matmul()"
   ]
  },
  {
   "cell_type": "code",
   "execution_count": 30,
   "metadata": {},
   "outputs": [
    {
     "data": {
      "text/plain": [
       "[<matplotlib.lines.Line2D at 0x7f9441915fd0>]"
      ]
     },
     "execution_count": 30,
     "metadata": {},
     "output_type": "execute_result"
    },
    {
     "data": {
      "image/png": "[encoded data removed]",
      "text/plain": [
       "<Figure size 720x720 with 1 Axes>"
      ]
     },
     "metadata": {
      "needs_background": "light"
     },
     "output_type": "display_data"
    }
   ],
   "source": [
    "fig = plt.figure(figsize=(10,10))\n",
    "plt.axis('equal')\n",
    "plt.plot(x, y)\n",
    "plt.plot(xp,yp)"
   ]
  }
 ],
 "metadata": {
  "kernelspec": {
   "display_name": "Python 2",
   "language": "python",
   "name": "python2"
  },
  "language_info": {
   "codemirror_mode": {
    "name": "ipython",
    "version": 2
   },
   "file_extension": ".py",
   "mimetype": "text/x-python",
   "name": "python",
   "nbconvert_exporter": "python",
   "pygments_lexer": "ipython2",
   "version": "2.7.15rc1"
  }
 },
 "nbformat": 4,
 "nbformat_minor": 2
}
